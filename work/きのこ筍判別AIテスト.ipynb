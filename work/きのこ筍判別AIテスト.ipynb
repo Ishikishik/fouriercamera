{
 "cells": [
  {
   "cell_type": "code",
   "execution_count": 1,
   "metadata": {},
   "outputs": [],
   "source": [
    "import os\n",
    "import shutil\n",
    "import tensorflow as tf\n",
    "import numpy as np\n",
    "from tensorflow.keras.preprocessing import image\n",
    "from pathlib import Path"
   ]
  },
  {
   "cell_type": "code",
   "execution_count": 2,
   "metadata": {},
   "outputs": [
    {
     "name": "stdout",
     "output_type": "stream",
     "text": [
      "\u001b[1m1/1\u001b[0m \u001b[32m━━━━━━━━━━━━━━━━━━━━\u001b[0m\u001b[37m\u001b[0m \u001b[1m0s\u001b[0m 33ms/step\n",
      "\u001b[1m1/1\u001b[0m \u001b[32m━━━━━━━━━━━━━━━━━━━━\u001b[0m\u001b[37m\u001b[0m \u001b[1m0s\u001b[0m 9ms/step\n",
      "\u001b[1m1/1\u001b[0m \u001b[32m━━━━━━━━━━━━━━━━━━━━\u001b[0m\u001b[37m\u001b[0m \u001b[1m0s\u001b[0m 8ms/step\n",
      "\u001b[1m1/1\u001b[0m \u001b[32m━━━━━━━━━━━━━━━━━━━━\u001b[0m\u001b[37m\u001b[0m \u001b[1m0s\u001b[0m 8ms/step\n",
      "\u001b[1m1/1\u001b[0m \u001b[32m━━━━━━━━━━━━━━━━━━━━\u001b[0m\u001b[37m\u001b[0m \u001b[1m0s\u001b[0m 7ms/step\n",
      "\u001b[1m1/1\u001b[0m \u001b[32m━━━━━━━━━━━━━━━━━━━━\u001b[0m\u001b[37m\u001b[0m \u001b[1m0s\u001b[0m 7ms/step\n",
      "\u001b[1m1/1\u001b[0m \u001b[32m━━━━━━━━━━━━━━━━━━━━\u001b[0m\u001b[37m\u001b[0m \u001b[1m0s\u001b[0m 8ms/step\n",
      "\u001b[1m1/1\u001b[0m \u001b[32m━━━━━━━━━━━━━━━━━━━━\u001b[0m\u001b[37m\u001b[0m \u001b[1m0s\u001b[0m 7ms/step\n",
      "\u001b[1m1/1\u001b[0m \u001b[32m━━━━━━━━━━━━━━━━━━━━\u001b[0m\u001b[37m\u001b[0m \u001b[1m0s\u001b[0m 7ms/step\n",
      "\u001b[1m1/1\u001b[0m \u001b[32m━━━━━━━━━━━━━━━━━━━━\u001b[0m\u001b[37m\u001b[0m \u001b[1m0s\u001b[0m 7ms/step\n",
      "画像を2つのフォルダに分類して移動しました。\n"
     ]
    }
   ],
   "source": [
    "\n",
    "\n",
    "# モデルのロード\n",
    "model = tf.keras.models.load_model('kinokotakenoko.keras')  # トレーニング済みのモデル\n",
    "\n",
    "# テストフォルダのパス\n",
    "test_folder = Path('test1')  # 分類する画像が保存されているフォルダ\n",
    "takenoko_folder = Path('output/takenoko')  # \"takenoko\"クラスの画像を保存するフォルダ\n",
    "kinoko_folder = Path('output/kinoko')  # \"kinoko\"クラスの画像を保存するフォルダ\n",
    "\n",
    "# 出力フォルダの作成\n",
    "takenoko_folder.mkdir(parents=True, exist_ok=True)\n",
    "kinoko_folder.mkdir(parents=True, exist_ok=True)\n",
    "\n",
    "# 画像を分類してフォルダに移動する\n",
    "for img_path in test_folder.glob('*'):\n",
    "    if img_path.suffix.lower() in ['.png', '.jpg', '.jpeg']:\n",
    "        # 画像の読み込みと前処理\n",
    "        img = image.load_img(img_path, target_size=(64, 64))  # モデルの入力サイズに合わせる\n",
    "        img_array = image.img_to_array(img)\n",
    "        img_array = np.expand_dims(img_array, axis=0)  # バッチ次元を追加\n",
    "        img_array = img_array / 255.0  # 正規化\n",
    "\n",
    "        # 画像の分類\n",
    "        prediction = model.predict(img_array)\n",
    "        predicted_class = int(prediction[0] > 0.997699)  # 0または1に分類 #0.9977\n",
    "\n",
    "        # クラスに応じたフォルダに画像を移動\n",
    "        if predicted_class == 0:\n",
    "            shutil.move(str(img_path), kinoko_folder / img_path.name)  # \"takenoko\"フォルダに移動\n",
    "        else:\n",
    "            shutil.move(str(img_path), takenoko_folder / img_path.name)  # \"kinoko\"フォルダに移動\n",
    "\n",
    "print(\"画像を2つのフォルダに分類して移動しました。\")\n",
    "\n"
   ]
  }
 ],
 "metadata": {
  "kernelspec": {
   "display_name": "Python 3",
   "language": "python",
   "name": "python3"
  },
  "language_info": {
   "codemirror_mode": {
    "name": "ipython",
    "version": 3
   },
   "file_extension": ".py",
   "mimetype": "text/x-python",
   "name": "python",
   "nbconvert_exporter": "python",
   "pygments_lexer": "ipython3",
   "version": "3.11.6"
  },
  "orig_nbformat": 2
 },
 "nbformat": 4,
 "nbformat_minor": 2
}
