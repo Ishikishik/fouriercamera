{
 "cells": [
  {
   "cell_type": "code",
   "execution_count": 1,
   "metadata": {},
   "outputs": [],
   "source": [
    "#appleデバイスは画像の拡張子が独自規格で通用しないことが多いです。念の為変換すると良いでしょう\n",
    "from PIL import Image\n",
    "import os"
   ]
  },
  {
   "cell_type": "code",
   "execution_count": 5,
   "metadata": {},
   "outputs": [
    {
     "name": "stdout",
     "output_type": "stream",
     "text": [
      "すべての画像がJPEGに変換されました。\n"
     ]
    }
   ],
   "source": [
    "#画像を行列として表示する\n",
    "\n",
    "# 入力フォルダのパスを指定\n",
    "input_folder = \"/home/jovyan/work/IMG_2253.HELC\"  # ここに画像が入っているフォルダのパスを指定\n",
    "output_folder = \"soma.jpg\"  # ここに変換後の画像を保存するフォルダを指定\n",
    "\n",
    "# 出力フォルダが存在しない場合は作成\n",
    "if not os.path.exists(output_folder):\n",
    "    os.makedirs(output_folder)\n",
    "\n",
    "# 入力フォルダ内のすべてのファイルを処理\n",
    "for filename in os.listdir(input_folder):\n",
    "    if filename.lower().endswith(('.png', '.jpg', '.jpeg', '.bmp', '.tiff', '.gif')):  # 対応するファイル拡張子\n",
    "        # 画像のフルパスを作成\n",
    "        img_path = os.path.join(input_folder, filename)\n",
    "        \n",
    "        # 画像を開く\n",
    "        with Image.open(img_path) as img:\n",
    "            # 出力ファイル名を作成（JPEG形式で保存するために拡張子を変更）\n",
    "            output_path = os.path.join(output_folder, os.path.splitext(filename)[0] + \".jpeg\")\n",
    "            \n",
    "            # 画像をJPEG形式で保存 (quality=95 はJPEGの品質を設定)\n",
    "            img.convert(\"RGB\").save(output_path, \"JPEG\", quality=95)\n",
    "\n",
    "print(\"すべての画像がJPEGに変換されました。\")"
   ]
  }
 ],
 "metadata": {
  "kernelspec": {
   "display_name": "Python 3",
   "language": "python",
   "name": "python3"
  },
  "language_info": {
   "codemirror_mode": {
    "name": "ipython",
    "version": 3
   },
   "file_extension": ".py",
   "mimetype": "text/x-python",
   "name": "python",
   "nbconvert_exporter": "python",
   "pygments_lexer": "ipython3",
   "version": "3.1.0"
  },
  "orig_nbformat": 2
 },
 "nbformat": 4,
 "nbformat_minor": 2
}
